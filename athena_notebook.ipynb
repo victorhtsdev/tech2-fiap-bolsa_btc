{
 "cells": [
  {
   "cell_type": "code",
   "execution_count": null,
   "id": "03bc878d-6d65-49ff-990c-321d82a049d3",
   "metadata": {},
   "outputs": [],
   "source": [
    "from pyspark.sql.functions import col, sum"
   ]
  },
  {
   "cell_type": "code",
   "execution_count": null,
   "id": "caa9569b-fff7-464f-bf66-f306ab5e5d1a",
   "metadata": {},
   "outputs": [],
   "source": [
    "# Agrupar por data e somar a coluna variacao_qtd_teorica\n",
    "df_somatoria = (\n",
    "    df_silver.groupBy(\"data\")\n",
    "    .agg(sum(\"variacao_qtd_teorica\").alias(\"somatoria_variacao\"))\n",
    "    .orderBy(\"data\")  # Ordenar por data para manter a sequência temporal\n",
    ")\n",
    "\n",
    "# Converter para Pandas para o gráfico\n",
    "df_somatoria_pd = df_somatoria.toPandas()\n",
    "\n",
    "# Garantir que o campo \"data\" está no formato datetime\n",
    "df_somatoria_pd[\"data\"] = pd.to_datetime(df_somatoria_pd[\"data\"])\n"
   ]
  },
  {
   "cell_type": "code",
   "execution_count": null,
   "id": "32c2a0ea-01db-4114-ac98-fc3e832cdaf7",
   "metadata": {},
   "outputs": [],
   "source": [
    "import matplotlib.pyplot as plt\n",
    "\n",
    "# Criar o gráfico de linha\n",
    "plt.figure(figsize=(12, 8))\n",
    "plt.plot(\n",
    "    df_somatoria_pd[\"data\"],\n",
    "    df_somatoria_pd[\"somatoria_variacao\"],\n",
    "    marker=\"o\",\n",
    "    linestyle=\"-\",\n",
    "    label=\"Soma da Variação Teórica\"\n",
    ")\n",
    "\n",
    "# Configurações do gráfico\n",
    "plt.title(\"Soma Acumulada de Variação Teórica ao Longo do Tempo\")\n",
    "plt.xlabel(\"Data\")\n",
    "plt.ylabel(\"Soma da Variação Teórica\")\n",
    "plt.grid(True)\n",
    "plt.xticks(rotation=45)\n",
    "plt.legend()\n",
    "plt.show()\n"
   ]
  }
 ],
 "metadata": {
  "kernelspec": {
   "display_name": "Python 3 (ipykernel)",
   "language": "python",
   "name": "python3"
  },
  "language_info": {
   "codemirror_mode": {
    "name": "ipython",
    "version": 3
   },
   "file_extension": ".py",
   "mimetype": "text/x-python",
   "name": "python",
   "nbconvert_exporter": "python",
   "pygments_lexer": "ipython3",
   "version": "3.11.10"
  }
 },
 "nbformat": 4,
 "nbformat_minor": 5
}
