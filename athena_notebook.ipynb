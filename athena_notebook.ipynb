{
 "cells": [
  {
   "cell_type": "code",
   "execution_count": null,
   "id": "03bc878d-6d65-49ff-990c-321d82a049d3",
   "metadata": {},
   "outputs": [],
   "source": [
    "from pyspark.sql import SparkSession\n",
    "import pandas as pd\n",
    "import matplotlib.pyplot as plt"
   ]
  },
  {
   "cell_type": "code",
   "execution_count": null,
   "id": "caa9569b-fff7-464f-bf66-f306ab5e5d1a",
   "metadata": {},
   "outputs": [],
   "source": [
    "# Caminho da base no S3\n",
    "file_path = \"s3://vhts-fiap-tech-challenge2/bolsa_bovespa/silver/\"\n",
    "\n",
    "try:\n",
    "    \n",
    "    df_silver = spark.read.option(\"mergeSchema\", \"true\").parquet(file_path)\n",
    "    print(\"Primeiros registros do DataFrame:\")\n",
    "    df_silver.show(5)  \n",
    "except Exception as e:\n",
    "    print(f\"Erro ao ler os dados do S3: {e}\")"
   ]
  },
  {
   "cell_type": "code",
   "execution_count": null,
   "id": "32c2a0ea-01db-4114-ac98-fc3e832cdaf7",
   "metadata": {},
   "outputs": [],
   "source": []
  }
 ],
 "metadata": {
  "kernelspec": {
   "display_name": "Python 3 (ipykernel)",
   "language": "python",
   "name": "python3"
  },
  "language_info": {
   "codemirror_mode": {
    "name": "ipython",
    "version": 3
   },
   "file_extension": ".py",
   "mimetype": "text/x-python",
   "name": "python",
   "nbconvert_exporter": "python",
   "pygments_lexer": "ipython3",
   "version": "3.11.5"
  }
 },
 "nbformat": 4,
 "nbformat_minor": 5
}
